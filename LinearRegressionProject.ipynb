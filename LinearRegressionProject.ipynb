{
  "nbformat": 4,
  "nbformat_minor": 0,
  "metadata": {
    "colab": {
      "provenance": [],
      "authorship_tag": "ABX9TyPAE0j2vo3OnNGH7Ob4CIqf",
      "include_colab_link": true
    },
    "kernelspec": {
      "name": "python3",
      "display_name": "Python 3"
    },
    "language_info": {
      "name": "python"
    }
  },
  "cells": [
    {
      "cell_type": "markdown",
      "metadata": {
        "id": "view-in-github",
        "colab_type": "text"
      },
      "source": [
        "<a href=\"https://colab.research.google.com/github/osmanaltuna5/PYTHON/blob/main/LinearRegressionProject.ipynb\" target=\"_parent\"><img src=\"https://colab.research.google.com/assets/colab-badge.svg\" alt=\"Open In Colab\"/></a>"
      ]
    },
    {
      "cell_type": "code",
      "execution_count": null,
      "metadata": {
        "id": "buoRx2XmZDAF"
      },
      "outputs": [],
      "source": [
        "import pandas as pd\n",
        "import numpy as np\n",
        "from matplotlib import pyplot\n",
        "from sklearn import datasets\n",
        "from sklearn.linear_model import LinearRegression\n",
        "from sklearn.utils import shuffle\n",
        "from sklearn.model_selection import train_test_split\n"
      ]
    },
    {
      "cell_type": "code",
      "source": [
        "data = datasets.load_boston()\n",
        "data_list = []\n",
        "for i in data['data']:\n",
        "  data_list.append(i[12])\n",
        "data_X = np.array(data_list).reshape(-1,1)\n",
        "data_Y = np.array(data['target']).reshape(-1,1)\n",
        "\n",
        " "
      ],
      "metadata": {
        "id": "hCiINaCIZtJO"
      },
      "execution_count": null,
      "outputs": []
    },
    {
      "cell_type": "code",
      "source": [
        "lr = LinearRegression()\n",
        "lr.fit(data_X,data_Y)\n",
        "lr.coef_, lr.intercept_"
      ],
      "metadata": {
        "colab": {
          "base_uri": "https://localhost:8080/"
        },
        "id": "VZNUE1w21AOi",
        "outputId": "16ce0e84-864e-48b1-c41c-e059f5239e02"
      },
      "execution_count": null,
      "outputs": [
        {
          "output_type": "execute_result",
          "data": {
            "text/plain": [
              "(array([[-0.95004935]]), array([34.55384088]))"
            ]
          },
          "metadata": {},
          "execution_count": 3
        }
      ]
    },
    {
      "cell_type": "markdown",
      "source": [
        "We find the parameters of the function h.\n",
        "\n",
        "θ1 = lr.coef_\n",
        "\n",
        "θ0 = lr.intercept_ \n",
        "\n",
        "hθ(x)=θ0+θ1x1\n"
      ],
      "metadata": {
        "id": "Hk-sAMWz1Lta"
      }
    },
    {
      "cell_type": "code",
      "source": [
        "f = lambda x: lr.coef_[0] * x + lr.intercept_\n",
        "steps = data_X   # x-coordinate\n",
        "fitline = list(map(f, steps))      # y-coordinate\n",
        "pyplot.plot(steps, fitline, color='green')  #it just plots the line\n",
        "\n",
        "pyplot.scatter(x=data_X,y=data_Y)\n",
        "\n",
        "pyplot.xlabel(\"LSTAT\")\n",
        "pyplot.ylabel(\"Target\")"
      ],
      "metadata": {
        "colab": {
          "base_uri": "https://localhost:8080/",
          "height": 296
        },
        "id": "7kj4DNiG2JAJ",
        "outputId": "c8b189b6-69c6-493b-ae33-d9675a6c0e36"
      },
      "execution_count": null,
      "outputs": [
        {
          "output_type": "execute_result",
          "data": {
            "text/plain": [
              "Text(0, 0.5, 'Target')"
            ]
          },
          "metadata": {},
          "execution_count": 4
        },
        {
          "output_type": "display_data",
          "data": {
            "text/plain": [
              "<Figure size 432x288 with 1 Axes>"
            ],
            "image/png": "[encoded data removed]"
          },
          "metadata": {
            "needs_background": "light"
          }
        }
      ]
    },
    {
      "cell_type": "code",
      "source": [],
      "metadata": {
        "id": "H8N8d5LV8ANE"
      },
      "execution_count": null,
      "outputs": []
    },
    {
      "cell_type": "code",
      "execution_count": null,
      "metadata": {
        "colab": {
          "base_uri": "https://localhost:8080/"
        },
        "id": "DOERofvzjLLG",
        "outputId": "0a55f78e-ccaf-47e6-83e5-c183675dae32"
      },
      "outputs": [
        {
          "output_type": "stream",
          "name": "stdout",
          "text": [
            "[20284.09958594]\n",
            "16700.0\n",
            "0.5441462975864797\n"
          ]
        }
      ],
      "source": [
        "print(lr.predict([data_X[420]])[0]*1000)  #iloc is the index\n",
        "print(data_Y[420][0]*1000)\n",
        "print(lr.score(data_X,data_Y))"
      ]
    },
    {
      "cell_type": "markdown",
      "source": [],
      "metadata": {
        "id": "TDEgsR6vA1kR"
      }
    },
    {
      "cell_type": "code",
      "source": [
        "housing_df = pd.DataFrame(data=np.c_[data['data'], data['target']],columns= list(data['feature_names']) + ['target'])\n",
        "\n",
        "lr = LinearRegression()\n",
        "X=housing_df[['CRIM',\t'ZN',\t'INDUS', 'CHAS',\t'NOX',\t'RM',\t'AGE',\t'DIS',\t'RAD',\t'TAX',\t'PTRATIO',\t'B',\t'LSTAT']]\n",
        "y=housing_df['target']"
      ],
      "metadata": {
        "id": "L82c6aO6A61I"
      },
      "execution_count": null,
      "outputs": []
    },
    {
      "cell_type": "code",
      "source": [
        "lr.fit(X,y)"
      ],
      "metadata": {
        "colab": {
          "base_uri": "https://localhost:8080/"
        },
        "id": "57eC26MSBfnA",
        "outputId": "db54d5fe-f267-4968-c0b1-d7fdcd1996a1"
      },
      "execution_count": null,
      "outputs": [
        {
          "output_type": "stream",
          "name": "stderr",
          "text": [
            "/usr/local/lib/python3.7/dist-packages/sklearn/utils/validation.py:1692: FutureWarning: Feature names only support names that are all strings. Got feature names with dtypes: ['str_']. An error will be raised in 1.2.\n",
            "  FutureWarning,\n"
          ]
        },
        {
          "output_type": "execute_result",
          "data": {
            "text/plain": [
              "LinearRegression()"
            ]
          },
          "metadata": {},
          "execution_count": 7
        }
      ]
    },
    {
      "cell_type": "code",
      "source": [
        "total = 0\n",
        "for i in range(len(X)):\n",
        "  temp = np.square(lr.predict([X.iloc[i]])-y.iloc[i])\n",
        "  total += temp\n",
        "print(total/len(X))\n",
        "lr.score(X,y)"
      ],
      "metadata": {
        "colab": {
          "base_uri": "https://localhost:8080/"
        },
        "id": "TpGu2a_bBlgG",
        "outputId": "5cffa582-fb87-44ad-a5fd-9612c272a349"
      },
      "execution_count": null,
      "outputs": [
        {
          "output_type": "stream",
          "name": "stdout",
          "text": [
            "[21.89483118]\n"
          ]
        },
        {
          "output_type": "stream",
          "name": "stderr",
          "text": [
            "/usr/local/lib/python3.7/dist-packages/sklearn/utils/validation.py:1692: FutureWarning: Feature names only support names that are all strings. Got feature names with dtypes: ['str_']. An error will be raised in 1.2.\n",
            "  FutureWarning,\n"
          ]
        },
        {
          "output_type": "execute_result",
          "data": {
            "text/plain": [
              "0.7406426641094095"
            ]
          },
          "metadata": {},
          "execution_count": 17
        }
      ]
    },
    {
      "cell_type": "markdown",
      "source": [],
      "metadata": {
        "id": "q_DyzcCBQrDr"
      }
    },
    {
      "cell_type": "code",
      "source": [
        "data = shuffle(housing_df)\n",
        "x_train,x_test,y_train,y_test = train_test_split(X,y, random_state=0, test_size=0.4)\n",
        "linear_Regression = LinearRegression()\n",
        "linear_Regression.fit(x_train,y_train)\n",
        "linear_Regression.score(x_test,y_test)\n",
        "\n",
        "total = 0\n",
        "for i in range(len(x_test)):\n",
        "  temp = np.square(lr.predict([x_test.iloc[i]])-y_test.iloc[i])\n",
        "  total += temp\n",
        "print(total/len(x_test))\n",
        "linear_Regression.score(x_test,y_test)"
      ],
      "metadata": {
        "colab": {
          "base_uri": "https://localhost:8080/"
        },
        "id": "QznwYn_MQxOS",
        "outputId": "eba1abdc-b11e-4951-e0df-af54baa87d1e"
      },
      "execution_count": null,
      "outputs": [
        {
          "output_type": "stream",
          "name": "stdout",
          "text": [
            "[24.23145253]\n"
          ]
        },
        {
          "output_type": "stream",
          "name": "stderr",
          "text": [
            "/usr/local/lib/python3.7/dist-packages/sklearn/utils/validation.py:1692: FutureWarning: Feature names only support names that are all strings. Got feature names with dtypes: ['str_']. An error will be raised in 1.2.\n",
            "  FutureWarning,\n",
            "/usr/local/lib/python3.7/dist-packages/sklearn/utils/validation.py:1692: FutureWarning: Feature names only support names that are all strings. Got feature names with dtypes: ['str_']. An error will be raised in 1.2.\n",
            "  FutureWarning,\n",
            "/usr/local/lib/python3.7/dist-packages/sklearn/utils/validation.py:1692: FutureWarning: Feature names only support names that are all strings. Got feature names with dtypes: ['str_']. An error will be raised in 1.2.\n",
            "  FutureWarning,\n"
          ]
        },
        {
          "output_type": "execute_result",
          "data": {
            "text/plain": [
              "0.688260714253802"
            ]
          },
          "metadata": {},
          "execution_count": 24
        }
      ]
    }
  ]
}