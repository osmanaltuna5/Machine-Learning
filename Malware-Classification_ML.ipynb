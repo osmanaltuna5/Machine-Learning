{
  "nbformat": 4,
  "nbformat_minor": 0,
  "metadata": {
    "colab": {
      "provenance": [],
      "mount_file_id": "1qWje3rl-XtGPQZKqYqjoeByHnrOMDteP",
      "authorship_tag": "ABX9TyMXwyC2x3RnkO16DRf4Rqe4",
      "include_colab_link": true
    },
    "kernelspec": {
      "name": "python3",
      "display_name": "Python 3"
    },
    "language_info": {
      "name": "python"
    }
  },
  "cells": [
    {
      "cell_type": "markdown",
      "metadata": {
        "id": "view-in-github",
        "colab_type": "text"
      },
      "source": [
        "<a href=\"https://colab.research.google.com/github/osmanaltuna5/PYTHON/blob/main/Malware-Classification_ML.ipynb\" target=\"_parent\"><img src=\"https://colab.research.google.com/assets/colab-badge.svg\" alt=\"Open In Colab\"/></a>"
      ]
    },
    {
      "cell_type": "markdown",
      "source": [
        "**HW-5: Malware Classification (Due 5th January, 2023)**\n",
        "\n"
      ],
      "metadata": {
        "id": "CTzlOvW-M50u"
      }
    },
    {
      "cell_type": "code",
      "execution_count": null,
      "metadata": {
        "id": "Vd2BG2VqLD_s"
      },
      "outputs": [],
      "source": [
        "import pandas as pd\n",
        "import numpy as np\n",
        "from sklearn import datasets\n",
        "from matplotlib import pyplot\n",
        "from sklearn.linear_model import LogisticRegression\n",
        "from sklearn.linear_model import LinearRegression\n",
        "from sklearn.model_selection import train_test_split\n",
        "from sklearn.neighbors import KNeighborsClassifier\n",
        "from sklearn.svm import LinearSVC, SVC\n",
        "from sklearn.metrics.pairwise import polynomial_kernel\n",
        "from sklearn.ensemble import VotingClassifier\n",
        "\n",
        "#new tricks\n",
        "from sklearn.tree import DecisionTreeClassifier\n",
        "from sklearn.tree import DecisionTreeRegressor\n",
        "from sklearn.metrics import confusion_matrix\n",
        "from sklearn.metrics import mean_squared_error, accuracy_score\n",
        "from sklearn.model_selection import train_test_split\n",
        "from sklearn.model_selection import cross_val_score\n",
        "from sklearn.tree import DecisionTreeClassifier\n",
        "from sklearn.model_selection import GridSearchCV\n",
        "from sklearn.feature_selection import GenericUnivariateSelect\n",
        "from sklearn.feature_selection import chi2\n",
        "from sklearn.feature_selection import mutual_info_classif\n",
        "import matplotlib.pyplot as plt\n",
        "from sklearn.pipeline import Pipeline\n",
        "from sklearn.preprocessing import StandardScaler"
      ]
    },
    {
      "cell_type": "code",
      "source": [
        "df = pd.read_csv('/content/drive/MyDrive/hw5_data.csv',delimiter=\",\")\n",
        "\n",
        "X = df.drop('target',axis=1)\n",
        "y = df['target']\n",
        "X_train,X_test,y_train,y_test = train_test_split(X,y)\n"
      ],
      "metadata": {
        "id": "fJpqY5DTPmqE"
      },
      "execution_count": null,
      "outputs": []
    },
    {
      "cell_type": "code",
      "source": [
        "#Basic Function for hyperparameter\n",
        "def hyper_parameter(algorithm, param):\n",
        "  clf = GridSearchCV(algorithm,param,cv=4)\n",
        "  clf.fit(X_train, y_train)\n",
        " \n",
        "  print(\"BestParameters: \" , clf.best_params_)\n",
        "  print(\"Best Score: \" , clf.best_score_)\n",
        "  return clf.best_estimator_\n",
        "\n",
        "\n"
      ],
      "metadata": {
        "id": "Xg1VM4mzZGm_"
      },
      "execution_count": null,
      "outputs": []
    },
    {
      "cell_type": "code",
      "source": [
        "# i'm selecting all feature selection sets here\n",
        "ks = [50,200,300,500,1000,1500,1800]\n",
        "feature_set = []\n",
        "feature_names = []\n",
        "for k in ks:\n",
        "    select = GenericUnivariateSelect(score_func=mutual_info_classif, mode=\"k_best\", param=k)\n",
        "    X_k = select.fit_transform(X, y)\n",
        "    feature_set.append(X_k)\n",
        "    feature_names.append(select.get_feature_names_out())\n",
        "    \n",
        " # I defined this function for the all algorithms   \n",
        "def feature_selection(algorithm):\n",
        "  ac = []\n",
        "  for k in feature_set:\n",
        "    score = cross_val_score(algorithm, k, y, cv=4).mean()\n",
        "    ac.append(score)\n",
        "\n",
        "  plt.plot(ks, ac)\n",
        "  plt.xlabel('k')\n",
        "  plt.ylabel('CV Accuracy')"
      ],
      "metadata": {
        "id": "qqXiLeC6Rw0Q"
      },
      "execution_count": null,
      "outputs": []
    },
    {
      "cell_type": "markdown",
      "source": [
        "1-)Logistic Regression\n"
      ],
      "metadata": {
        "id": "SBOEzOcYYLhd"
      }
    },
    {
      "cell_type": "code",
      "source": [
        "l_reg =  Pipeline([('scaling', StandardScaler()),('model', LogisticRegression(solver='liblinear'))])\n",
        "l_reg.fit(X_train,y_train) #Without cross validation\n",
        "scores = cross_val_score(l_reg,X_test[feature_names[3]],y_test,cv=5)\n",
        "scores.mean()"
      ],
      "metadata": {
        "id": "TvEy4ftQ8Etw",
        "colab": {
          "base_uri": "https://localhost:8080/"
        },
        "outputId": "81ee75ee-27fa-49ac-9514-882740e0a544"
      },
      "execution_count": null,
      "outputs": [
        {
          "output_type": "execute_result",
          "data": {
            "text/plain": [
              "0.4856"
            ]
          },
          "metadata": {},
          "execution_count": 86
        }
      ]
    },
    {
      "cell_type": "code",
      "source": [
        "param_lr = [\n",
        "    {\n",
        "     'model__C': [0.25,0.5,1,2],\n",
        "     },\n",
        "     ]\n",
        "l_reg = hyper_parameter(l_reg,param_lr)"
      ],
      "metadata": {
        "colab": {
          "base_uri": "https://localhost:8080/"
        },
        "id": "eZYvUKkxYR_i",
        "outputId": "32bdd40a-aead-48f6-ed64-eb5188b26b22"
      },
      "execution_count": null,
      "outputs": [
        {
          "output_type": "stream",
          "name": "stdout",
          "text": [
            "BestParameters:  {'model__C': 0.25}\n",
            "Best Score:  0.5454747151572523\n"
          ]
        }
      ]
    },
    {
      "cell_type": "code",
      "source": [
        "feature_selection(l_reg)"
      ],
      "metadata": {
        "colab": {
          "base_uri": "https://localhost:8080/",
          "height": 279
        },
        "id": "FlccJVYWkTWo",
        "outputId": "c54e62d0-5fdb-4307-d44f-f91836fb757e"
      },
      "execution_count": null,
      "outputs": [
        {
          "output_type": "display_data",
          "data": {
            "text/plain": [
              "<Figure size 432x288 with 1 Axes>"
            ],
            "image/png": "[encoded data removed]"
          },
          "metadata": {
            "needs_background": "light"
          }
        }
      ]
    },
    {
      "cell_type": "code",
      "source": [
        "l_reg.fit(X_train[feature_names[2]],y_train)"
      ],
      "metadata": {
        "id": "sHMaBMs8zmNx"
      },
      "execution_count": null,
      "outputs": []
    },
    {
      "cell_type": "code",
      "source": [
        "l_reg.score(X_test[feature_names[2]],y_test)"
      ],
      "metadata": {
        "id": "gyLeUI_aoppe"
      },
      "execution_count": null,
      "outputs": []
    },
    {
      "cell_type": "markdown",
      "source": [
        "2-)Decision Tree\n"
      ],
      "metadata": {
        "id": "CAWzkHLHYRhi"
      }
    },
    {
      "cell_type": "code",
      "source": [
        "tree = DecisionTreeClassifier(criterion='gini', max_depth=9, min_samples_split=2)\n",
        "tree.fit(X_train,y_train)  \n",
        "scores = cross_val_score(tree,X_test[feature_names[3]],y_test,cv=5)\n"
      ],
      "metadata": {
        "id": "rgQwFN4iYSr6"
      },
      "execution_count": null,
      "outputs": []
    },
    {
      "cell_type": "code",
      "source": [
        "param_tree = [{'criterion': ['gini','entropy'],\n",
        "               'max_depth': [3,5,9],\n",
        "               'min_samples_split': [1.0,2,5]},]\n",
        "result = hyper_parameter(tree,param_tree)\n",
        "tree = result\n"
      ],
      "metadata": {
        "id": "3CWeqypo-riN",
        "colab": {
          "base_uri": "https://localhost:8080/"
        },
        "outputId": "e57752e0-98b8-4510-81ba-e3f51101abc0"
      },
      "execution_count": null,
      "outputs": [
        {
          "output_type": "stream",
          "name": "stdout",
          "text": [
            "BestParameters:  {'criterion': 'gini', 'max_depth': 9, 'min_samples_split': 2}\n",
            "Best Score:  0.8407574302598912\n"
          ]
        }
      ]
    },
    {
      "cell_type": "code",
      "source": [
        "feature_selection(tree)"
      ],
      "metadata": {
        "colab": {
          "base_uri": "https://localhost:8080/",
          "height": 279
        },
        "id": "kLN60DIMWTCp",
        "outputId": "6ec53181-f70a-432b-ae30-260c3141f055"
      },
      "execution_count": null,
      "outputs": [
        {
          "output_type": "display_data",
          "data": {
            "text/plain": [
              "<Figure size 432x288 with 1 Axes>"
            ],
            "image/png": "[encoded data removed]"
          },
          "metadata": {
            "needs_background": "light"
          }
        }
      ]
    },
    {
      "cell_type": "code",
      "source": [
        "tree.fit(X_train[feature_names[2]],y_train)"
      ],
      "metadata": {
        "colab": {
          "base_uri": "https://localhost:8080/"
        },
        "id": "olEFu3IZo97-",
        "outputId": "20da7d64-d8a5-41fe-824b-22739754398c"
      },
      "execution_count": null,
      "outputs": [
        {
          "output_type": "execute_result",
          "data": {
            "text/plain": [
              "DecisionTreeClassifier(max_depth=9)"
            ]
          },
          "metadata": {},
          "execution_count": 68
        }
      ]
    },
    {
      "cell_type": "code",
      "source": [
        "tree.score(X_test[feature_names[2]],y_test)"
      ],
      "metadata": {
        "colab": {
          "base_uri": "https://localhost:8080/"
        },
        "id": "pZ4ofHj4t_pf",
        "outputId": "699fafc7-fe2e-4f32-c0b1-f88ea1482707"
      },
      "execution_count": null,
      "outputs": [
        {
          "output_type": "execute_result",
          "data": {
            "text/plain": [
              "0.8584"
            ]
          },
          "metadata": {},
          "execution_count": 69
        }
      ]
    },
    {
      "cell_type": "markdown",
      "source": [
        "*3*-)k-NN Algorithm"
      ],
      "metadata": {
        "id": "OQL_yySEYYTU"
      }
    },
    {
      "cell_type": "code",
      "source": [
        "k_nn = KNeighborsClassifier(n_neighbors=5)\n",
        "k_nn.fit(X_train,y_train)\n",
        "scores = cross_val_score(k_nn,X_train,y_train,cv=5)\n",
        "scores.mean()\n"
      ],
      "metadata": {
        "id": "jKU-1S9LYcmc",
        "colab": {
          "base_uri": "https://localhost:8080/"
        },
        "outputId": "61e48ce2-013d-4ea8-dd2d-75110ed71381"
      },
      "execution_count": null,
      "outputs": [
        {
          "output_type": "execute_result",
          "data": {
            "text/plain": [
              "0.7538000890075656"
            ]
          },
          "metadata": {},
          "execution_count": 35
        }
      ]
    },
    {
      "cell_type": "code",
      "source": [
        "param_knn = [{'n_neighbors' : [2,5]},] #I tried to select hyper parameters less because of the time\n",
        "k_nn = hyper_parameter(k_nn, param_knn)"
      ],
      "metadata": {
        "colab": {
          "base_uri": "https://localhost:8080/"
        },
        "id": "6GdqE7z0VBik",
        "outputId": "c904f525-83ed-4fc1-f287-62ad678d653e"
      },
      "execution_count": null,
      "outputs": [
        {
          "output_type": "stream",
          "name": "stdout",
          "text": [
            "BestParameters:  {'n_neighbors': 5}\n",
            "Best Score:  0.750868409135903\n"
          ]
        }
      ]
    },
    {
      "cell_type": "code",
      "source": [
        "feature_selection(k_nn)"
      ],
      "metadata": {
        "colab": {
          "base_uri": "https://localhost:8080/",
          "height": 279
        },
        "id": "Ko1YBWLMU-GN",
        "outputId": "5f97d4dd-ac73-4a47-bc5a-2c363fcff188"
      },
      "execution_count": null,
      "outputs": [
        {
          "output_type": "display_data",
          "data": {
            "text/plain": [
              "<Figure size 432x288 with 1 Axes>"
            ],
            "image/png": "[encoded data removed]"
          },
          "metadata": {
            "needs_background": "light"
          }
        }
      ]
    },
    {
      "cell_type": "code",
      "source": [
        "k_nn.fit(X_train[feature_names[4]],y_train) #Fit the algorithm with the best features set"
      ],
      "metadata": {
        "colab": {
          "base_uri": "https://localhost:8080/"
        },
        "id": "O9X-S_O-pWBY",
        "outputId": "60d98fbc-dcbf-499e-8f59-925fcd5c9d38"
      },
      "execution_count": null,
      "outputs": [
        {
          "output_type": "execute_result",
          "data": {
            "text/plain": [
              "KNeighborsClassifier()"
            ]
          },
          "metadata": {},
          "execution_count": 84
        }
      ]
    },
    {
      "cell_type": "code",
      "source": [
        "k_nn.score(X_test[feature_names[4]],y_test) # Take the best score from determined features"
      ],
      "metadata": {
        "colab": {
          "base_uri": "https://localhost:8080/"
        },
        "id": "T7WpD02q4ikI",
        "outputId": "8da471bb-5a19-46a4-ca95-5e8e22407364"
      },
      "execution_count": null,
      "outputs": [
        {
          "output_type": "execute_result",
          "data": {
            "text/plain": [
              "0.812"
            ]
          },
          "metadata": {},
          "execution_count": 85
        }
      ]
    },
    {
      "cell_type": "markdown",
      "source": [
        "*4*-)SVM Algorithm\n"
      ],
      "metadata": {
        "id": "7YLWCIcAYdSL"
      }
    },
    {
      "cell_type": "code",
      "source": [
        "svm =  Pipeline([('scaler', StandardScaler()),('svc', SVC())]) # I used Pipline for this algo because of th responsable time\n",
        "svm.fit(X_train,y_train)\n"
      ],
      "metadata": {
        "id": "X-pesk8AZT5x",
        "colab": {
          "base_uri": "https://localhost:8080/"
        },
        "outputId": "fe50bb37-b755-4655-ef79-3210b8b3e3d5"
      },
      "execution_count": null,
      "outputs": [
        {
          "output_type": "execute_result",
          "data": {
            "text/plain": [
              "Pipeline(steps=[('scaler', StandardScaler()), ('svc', SVC())])"
            ]
          },
          "metadata": {},
          "execution_count": 39
        }
      ]
    },
    {
      "cell_type": "code",
      "source": [
        "scores = cross_val_score(svm,X_train,y_train,cv=5) #Make a K-fold cross validation\n",
        "scores.mean()"
      ],
      "metadata": {
        "colab": {
          "base_uri": "https://localhost:8080/"
        },
        "id": "0KdbquPjqWki",
        "outputId": "eb389a1d-ecf5-4660-a277-899a0871ccce"
      },
      "execution_count": null,
      "outputs": [
        {
          "output_type": "execute_result",
          "data": {
            "text/plain": [
              "0.6206992434356919"
            ]
          },
          "metadata": {},
          "execution_count": 40
        }
      ]
    },
    {
      "cell_type": "code",
      "source": [
        "svm.get_params().keys()"
      ],
      "metadata": {
        "colab": {
          "base_uri": "https://localhost:8080/"
        },
        "id": "iaTtXHD7c0qa",
        "outputId": "7d27ca7a-cdfb-44d3-c645-c4c6283a05f8"
      },
      "execution_count": null,
      "outputs": [
        {
          "output_type": "execute_result",
          "data": {
            "text/plain": [
              "dict_keys(['memory', 'steps', 'verbose', 'scaler', 'svc', 'scaler__copy', 'scaler__with_mean', 'scaler__with_std', 'svc__C', 'svc__break_ties', 'svc__cache_size', 'svc__class_weight', 'svc__coef0', 'svc__decision_function_shape', 'svc__degree', 'svc__gamma', 'svc__kernel', 'svc__max_iter', 'svc__probability', 'svc__random_state', 'svc__shrinking', 'svc__tol', 'svc__verbose'])"
            ]
          },
          "metadata": {},
          "execution_count": 43
        }
      ]
    },
    {
      "cell_type": "code",
      "source": [
        "param_svm = [{'svc__kernel': ['linear','rbf']\n",
        "              },]\n",
        "svm = hyper_parameter(svm,param_svm)"
      ],
      "metadata": {
        "colab": {
          "base_uri": "https://localhost:8080/"
        },
        "id": "ZZPoLRzksCO3",
        "outputId": "e74e1964-20ee-40cc-af7b-1c180f379983"
      },
      "execution_count": null,
      "outputs": [
        {
          "output_type": "stream",
          "name": "stdout",
          "text": [
            "BestParameters:  {'svc__kernel': 'rbf'}\n",
            "Best Score:  0.6161645841534817\n"
          ]
        }
      ]
    },
    {
      "cell_type": "code",
      "source": [
        "feature_selection(svm)"
      ],
      "metadata": {
        "colab": {
          "base_uri": "https://localhost:8080/",
          "height": 279
        },
        "id": "kVVs1h2mVez1",
        "outputId": "dd3830a1-7a7a-48bb-b19f-36818bad0c9e"
      },
      "execution_count": null,
      "outputs": [
        {
          "output_type": "display_data",
          "data": {
            "text/plain": [
              "<Figure size 432x288 with 1 Axes>"
            ],
            "image/png": "[encoded data removed]"
          },
          "metadata": {
            "needs_background": "light"
          }
        }
      ]
    },
    {
      "cell_type": "code",
      "source": [
        "svm.fit(X_train[feature_names[4]],y_train) #Fit the algorithm with the best features set"
      ],
      "metadata": {
        "colab": {
          "base_uri": "https://localhost:8080/"
        },
        "id": "TSOvS-bN3X7B",
        "outputId": "2f245694-78eb-4f05-e4d7-02b55bde46fe"
      },
      "execution_count": null,
      "outputs": [
        {
          "output_type": "execute_result",
          "data": {
            "text/plain": [
              "Pipeline(steps=[('scaler', StandardScaler()), ('svc', SVC())])"
            ]
          },
          "metadata": {},
          "execution_count": 78
        }
      ]
    },
    {
      "cell_type": "code",
      "source": [
        "svm.score(X_test[feature_names[4]],y_test) # Test with determine features"
      ],
      "metadata": {
        "id": "DNMv1ZNsr95e",
        "colab": {
          "base_uri": "https://localhost:8080/"
        },
        "outputId": "f4658f2e-27b5-4d77-945b-c4f45f174f1a"
      },
      "execution_count": null,
      "outputs": [
        {
          "output_type": "execute_result",
          "data": {
            "text/plain": [
              "0.6464"
            ]
          },
          "metadata": {},
          "execution_count": 79
        }
      ]
    },
    {
      "cell_type": "markdown",
      "source": [
        "ENSEMBLES"
      ],
      "metadata": {
        "id": "vu6mbDKQybyb"
      }
    },
    {
      "cell_type": "code",
      "source": [
        "ems = [('dt', tree),('knn',k_nn ),('lr',l_reg)]\n",
        "clf4 = VotingClassifier(estimators= ems, weights=None, voting='soft')\n",
        "scores = np.array([])\n",
        "feature_selection(clf4)\n"
      ],
      "metadata": {
        "colab": {
          "base_uri": "https://localhost:8080/",
          "height": 279
        },
        "id": "GWLKV_Kjyi2K",
        "outputId": "c1daa3f5-5adb-4d48-d0fd-4e1f99442859"
      },
      "execution_count": null,
      "outputs": [
        {
          "output_type": "display_data",
          "data": {
            "text/plain": [
              "<Figure size 432x288 with 1 Axes>"
            ],
            "image/png": "[encoded data removed]"
          },
          "metadata": {
            "needs_background": "light"
          }
        }
      ]
    },
    {
      "cell_type": "code",
      "source": [
        "clf4.fit(X_train[feature_names[4]],y_train) #Fit the algorithm with the best new feature set"
      ],
      "metadata": {
        "colab": {
          "base_uri": "https://localhost:8080/"
        },
        "id": "gRPC_G252KVA",
        "outputId": "7f7ebcb2-b2fb-4c7c-e922-cfea8a42f268"
      },
      "execution_count": null,
      "outputs": [
        {
          "output_type": "execute_result",
          "data": {
            "text/plain": [
              "VotingClassifier(estimators=[('dt', DecisionTreeClassifier(max_depth=9)),\n",
              "                             ('knn', KNeighborsClassifier(n_neighbors=10)),\n",
              "                             ('lr',\n",
              "                              Pipeline(steps=[('scaling', StandardScaler()),\n",
              "                                              ('model',\n",
              "                                               LogisticRegression(solver='liblinear'))]))],\n",
              "                 voting='soft')"
            ]
          },
          "metadata": {},
          "execution_count": 76
        }
      ]
    },
    {
      "cell_type": "markdown",
      "source": [
        "I made an ensemble with 3 algorithms and the test result gave the best result. it worked for me to make an Ensemble this way"
      ],
      "metadata": {
        "id": "uQfYSpGF5g0w"
      }
    },
    {
      "cell_type": "code",
      "source": [
        "clf4.score(X_test[feature_names[4]],y_test) # Best Score between the all algorithms"
      ],
      "metadata": {
        "colab": {
          "base_uri": "https://localhost:8080/"
        },
        "id": "0HoW-RXW2asp",
        "outputId": "9b7b602d-b07f-4c3e-c3b1-6eac06aae6a6"
      },
      "execution_count": null,
      "outputs": [
        {
          "output_type": "execute_result",
          "data": {
            "text/plain": [
              "0.8736"
            ]
          },
          "metadata": {},
          "execution_count": 77
        }
      ]
    }
  ]
}